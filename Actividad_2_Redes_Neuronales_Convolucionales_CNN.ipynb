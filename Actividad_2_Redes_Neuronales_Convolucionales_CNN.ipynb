{
  "nbformat": 4,
  "nbformat_minor": 0,
  "metadata": {
    "colab": {
      "provenance": [],
      "gpuType": "T4",
      "include_colab_link": true
    },
    "kernelspec": {
      "name": "python3",
      "display_name": "Python 3"
    },
    "accelerator": "GPU"
  },
  "cells": [
    {
      "cell_type": "markdown",
      "metadata": {
        "id": "view-in-github",
        "colab_type": "text"
      },
      "source": [
        "<a href=\"https://colab.research.google.com/github/MiguelRoLopz/Redes_Neuronales_Convoluciones_LosSimpsons/blob/main/Actividad_2_Redes_Neuronales_Convolucionales_CNN.ipynb\" target=\"_parent\"><img src=\"https://colab.research.google.com/assets/colab-badge.svg\" alt=\"Open In Colab\"/></a>"
      ]
    },
    {
      "cell_type": "markdown",
      "metadata": {
        "id": "mX8gZlVyCCbz"
      },
      "source": [
        "# ACTIVIDAD 2: REDES NEURONALES CONVOLUCIONALES\n",
        "\n",
        "---\n",
        "\n",
        "En esta actividad, vamos a trabajar con Convolutional Neural Networks para resolver un problema de clasificación de imágenes. En particular, vamos a clasificar imágenes de personajes de la conocida serie de los Simpsons.\n",
        "\n",
        "Como las CNN profundas son un tipo de modelo bastante avanzado y computacionalmente costoso, se recomienda hacer la práctica en Google Colaboratory con soporte para GPUs. En [este enlace](https://medium.com/deep-learning-turkey/google-colab-free-gpu-tutorial-e113627b9f5d) se explica cómo activar un entorno con GPUs. *Nota: para leer las imágenes y estandarizarlas al mismo tamaño se usa la librería opencv. Esta ĺibrería está ya instalada en el entorno de Colab, pero si trabajáis de manera local tendréis que instalarla.*\n",
        "\n",
        "<center><img src=\"https://i.imgur.com/i8zIGqX.jpg\" style=\"text-align: center\" height=\"300px\"></center>\n",
        "\n",
        "El dataset a utilizar consiste en imágenes de personajes de los Simpsons extraídas directamente de capítulos de la serie. Este dataset ha sido recopilado por [Alexandre Attia](http://www.alexattia.fr/) y es más complejo que el dataset de Fashion MNIST que hemos utilizado hasta ahora. Aparte de tener más clases (vamos a utilizar los 18 personajes con más imágenes), los personajes pueden aparecer en distintas poses, en distintas posiciones de la imagen o con otros personajes en pantalla (si bien el personaje a clasificar siempre aparece en la posición predominante).\n",
        "\n",
        "El dataset de training puede ser descargado desde aquí:\n",
        "\n",
        "[Training data](https://onedrive.live.com/download?cid=C506CF0A4F373B0F&resid=C506CF0A4F373B0F%219337&authkey=AMzI92bJPx8Sd60) (~500MB)\n",
        "\n",
        "Por otro lado, el dataset de test puede ser descargado de aquí:\n",
        "\n",
        "[Test data](https://onedrive.live.com/download?cid=C506CF0A4F373B0F&resid=C506CF0A4F373B0F%219341&authkey=ANnjK3Uq1FhuAe8) (~10MB)\n",
        "\n",
        "Antes de empezar la práctica, se recomienda descargar las imágenes y echarlas un vistazo.\n"
      ]
    },
    {
      "cell_type": "markdown",
      "metadata": {
        "id": "QI274F8LQC59"
      },
      "source": [
        "## Carga de los datos"
      ]
    },
    {
      "cell_type": "code",
      "metadata": {
        "id": "D7tKOZ9BFfki"
      },
      "source": [
        "import cv2\n",
        "import os\n",
        "import numpy as np\n",
        "import keras\n",
        "from tensorflow import keras\n",
        "import matplotlib.pyplot as plt\n",
        "import glob\n",
        "import tensorflow as tf\n",
        "\n"
      ],
      "execution_count": 3,
      "outputs": []
    },
    {
      "cell_type": "code",
      "source": [
        "# Primero, bajamos los datos de entrenamiento\n",
        "keras.utils.get_file(fname=\"simpsons_train.tar.gz\",\n",
        "                     origin=\"https://onedrive.live.com/download?cid=C506CF0A4F373B0F&resid=C506CF0A4F373B0F%219337&authkey=AMzI92bJPx8Sd60\")\n",
        "\n",
        "# Descomprimimos el archivo\n",
        "!tar -xzf /root/.keras/datasets/simpsons_train.tar.gz -C /root/.keras/datasets\n",
        "\n",
        "\n",
        "# Hacemos lo mismo con los datos de test\n",
        "keras.utils.get_file(fname=\"simpsons_test.tar.gz\",\n",
        "                     origin=\"https://onedrive.live.com/download?cid=C506CF0A4F373B0F&resid=C506CF0A4F373B0F%219341&authkey=ANnjK3Uq1FhuAe8\")\n",
        "!tar -xzf /root/.keras/datasets/simpsons_test.tar.gz -C /root/.keras/datasets"
      ],
      "metadata": {
        "id": "iw0apA7ruy1c"
      },
      "execution_count": 4,
      "outputs": []
    },
    {
      "cell_type": "code",
      "source": [
        "# Descomprimimos el archivo en tmp para visualizar\n",
        "# !tar -xzf /root/.keras/datasets/simpsons_train.tar.gz -C /tmp/simpsons"
      ],
      "metadata": {
        "id": "_HIhp512sPUJ"
      },
      "execution_count": 5,
      "outputs": []
    },
    {
      "cell_type": "code",
      "metadata": {
        "id": "hMFhe3COFwSD"
      },
      "source": [
        "# Esta variable contiene un mapeo de número de clase a personaje.\n",
        "# Utilizamos sólo los 18 personajes del dataset que tienen más imágenes.\n",
        "MAP_CHARACTERS = {\n",
        "    0: 'abraham_grampa_simpson', 1: 'apu_nahasapeemapetilon', 2: 'bart_simpson',\n",
        "    3: 'charles_montgomery_burns', 4: 'chief_wiggum', 5: 'comic_book_guy', 6: 'edna_krabappel',\n",
        "    7: 'homer_simpson', 8: 'kent_brockman', 9: 'krusty_the_clown', 10: 'lisa_simpson',\n",
        "    11: 'marge_simpson', 12: 'milhouse_van_houten', 13: 'moe_szyslak',\n",
        "    14: 'ned_flanders', 15: 'nelson_muntz', 16: 'principal_skinner', 17: 'sideshow_bob'\n",
        "}\n",
        "\n",
        "# Vamos a standarizar todas las imágenes a tamaño 64x64\n",
        "IMG_SIZE = 64"
      ],
      "execution_count": 6,
      "outputs": []
    },
    {
      "cell_type": "code",
      "metadata": {
        "id": "5bJ0NsbCbupF"
      },
      "source": [
        "def load_train_set(dirname, map_characters, verbose=True):\n",
        "    \"\"\"Esta función carga los datos de training en imágenes.\n",
        "\n",
        "    Como las imágenes tienen tamaños distintas, utilizamos la librería opencv\n",
        "    para hacer un resize y adaptarlas todas a tamaño IMG_SIZE x IMG_SIZE.\n",
        "\n",
        "    Args:\n",
        "        dirname: directorio completo del que leer los datos\n",
        "        map_characters: variable de mapeo entre labels y personajes\n",
        "        verbose: si es True, muestra información de las imágenes cargadas\n",
        "\n",
        "    Returns:\n",
        "        X, y: X es un array con todas las imágenes cargadas con tamaño\n",
        "                IMG_SIZE x IMG_SIZE\n",
        "              y es un array con las labels de correspondientes a cada imagen\n",
        "    \"\"\"\n",
        "    X_train = []\n",
        "    y_train = []\n",
        "    for label, character in map_characters.items():\n",
        "        files = os.listdir(os.path.join(dirname, character))\n",
        "        images = [file for file in files if file.endswith(\"jpg\")]\n",
        "        if verbose:\n",
        "          print(\"Leyendo {} imágenes encontradas de {}\".format(len(images), character))\n",
        "        for image_name in images:\n",
        "            image = cv2.imread(os.path.join(dirname, character, image_name))\n",
        "            X_train.append(cv2.resize(image,(IMG_SIZE, IMG_SIZE)))\n",
        "            y_train.append(label)\n",
        "    return np.array(X_train), np.array(y_train)"
      ],
      "execution_count": 7,
      "outputs": []
    },
    {
      "cell_type": "code",
      "metadata": {
        "id": "NslxhnnDK6uA"
      },
      "source": [
        "def load_test_set(dirname, map_characters, verbose=True):\n",
        "    \"\"\"Esta función funciona de manera equivalente a la función load_train_set\n",
        "    pero cargando los datos de test.\"\"\"\n",
        "    X_test = []\n",
        "    y_test = []\n",
        "    reverse_dict = {v: k for k, v in map_characters.items()}\n",
        "    for filename in glob.glob(dirname + '/*.*'):\n",
        "        char_name = \"_\".join(filename.split('/')[-1].split('_')[:-1])\n",
        "        if char_name in reverse_dict:\n",
        "            image = cv2.imread(filename)\n",
        "            image = cv2.resize(image, (IMG_SIZE, IMG_SIZE))\n",
        "            X_test.append(image)\n",
        "            y_test.append(reverse_dict[char_name])\n",
        "    if verbose:\n",
        "        print(\"Leídas {} imágenes de test\".format(len(X_test)))\n",
        "    return np.array(X_test), np.array(y_test)\n"
      ],
      "execution_count": 8,
      "outputs": []
    },
    {
      "cell_type": "code",
      "metadata": {
        "id": "WVWqKxFcbwTu",
        "colab": {
          "base_uri": "https://localhost:8080/"
        },
        "outputId": "4f86a6f0-62b7-4daf-b7ed-4cc81ec11ec5"
      },
      "source": [
        "# Cargamos los datos. Si no estás trabajando en colab, cambia los paths por\n",
        "# los de los ficheros donde hayas descargado los datos.\n",
        "DATASET_TRAIN_PATH_COLAB = \"/root/.keras/datasets/simpsons\"\n",
        "DATASET_TEST_PATH_COLAB = \"/root/.keras/datasets/simpsons_testset\"\n",
        "\n",
        "X, y = load_train_set(DATASET_TRAIN_PATH_COLAB, MAP_CHARACTERS)\n",
        "X_t, y_t = load_test_set(DATASET_TEST_PATH_COLAB, MAP_CHARACTERS)"
      ],
      "execution_count": 9,
      "outputs": [
        {
          "output_type": "stream",
          "name": "stdout",
          "text": [
            "Leyendo 913 imágenes encontradas de abraham_grampa_simpson\n",
            "Leyendo 623 imágenes encontradas de apu_nahasapeemapetilon\n",
            "Leyendo 1342 imágenes encontradas de bart_simpson\n",
            "Leyendo 1193 imágenes encontradas de charles_montgomery_burns\n",
            "Leyendo 986 imágenes encontradas de chief_wiggum\n",
            "Leyendo 469 imágenes encontradas de comic_book_guy\n",
            "Leyendo 457 imágenes encontradas de edna_krabappel\n",
            "Leyendo 2246 imágenes encontradas de homer_simpson\n",
            "Leyendo 498 imágenes encontradas de kent_brockman\n",
            "Leyendo 1206 imágenes encontradas de krusty_the_clown\n",
            "Leyendo 1354 imágenes encontradas de lisa_simpson\n",
            "Leyendo 1291 imágenes encontradas de marge_simpson\n",
            "Leyendo 1079 imágenes encontradas de milhouse_van_houten\n",
            "Leyendo 1452 imágenes encontradas de moe_szyslak\n",
            "Leyendo 1454 imágenes encontradas de ned_flanders\n",
            "Leyendo 358 imágenes encontradas de nelson_muntz\n",
            "Leyendo 1194 imágenes encontradas de principal_skinner\n",
            "Leyendo 877 imágenes encontradas de sideshow_bob\n",
            "Leídas 890 imágenes de test\n"
          ]
        }
      ]
    },
    {
      "cell_type": "code",
      "metadata": {
        "id": "2GY4vTFyfffv"
      },
      "source": [
        "# Vamos a barajar aleatoriamente los datos. Esto es importante ya que si no\n",
        "# lo hacemos y, por ejemplo, cogemos el 20% de los datos finales como validation\n",
        "# set, estaremos utilizando solo un pequeño número de personajes, ya que\n",
        "# las imágenes se leen secuencialmente personaje a personaje.\n",
        "perm = np.random.permutation(len(X))\n",
        "X, y = X[perm], y[perm]"
      ],
      "execution_count": 10,
      "outputs": []
    },
    {
      "cell_type": "code",
      "source": [
        "plt.imshow(X_t[2]) # recordad que siempre es preferible trabajar en blanco y negro\n"
      ],
      "metadata": {
        "colab": {
          "base_uri": "https://localhost:8080/",
          "height": 449
        },
        "id": "IOoQ7_0GrylF",
        "outputId": "2c51e329-a09b-4530-9429-f2b83ef26445"
      },
      "execution_count": 11,
      "outputs": [
        {
          "output_type": "execute_result",
          "data": {
            "text/plain": [
              "<matplotlib.image.AxesImage at 0x7be21bf806d0>"
            ]
          },
          "metadata": {},
          "execution_count": 11
        },
        {
          "output_type": "display_data",
          "data": {
            "text/plain": [
              "<Figure size 640x480 with 1 Axes>"
            ],
            "image/png": "[encoded data removed]"
          },
          "metadata": {}
        }
      ]
    },
    {
      "cell_type": "markdown",
      "metadata": {
        "id": "pBbmz9DMhVhc"
      },
      "source": [
        "## Ejercicio\n",
        "\n",
        "Utilizando Convolutional Neural Networks con Keras, entrenar un clasificador que sea capaz de reconocer personajes en imágenes de los Simpsons con una accuracy en el dataset de test de, al menos, **85%**. Redactar un informe analizando varias de las alternativas probadas y los resultados obtenidos.\n",
        "\n",
        "A continuación se detallan una serie de aspectos orientativos que podrían ser analizados en vuestro informe (no es necesario tratar todos ellos ni mucho menos, esto son ideas orientativas de aspectos que podéis explorar):\n",
        "\n",
        "*   Análisis de los datos a utilizar.\n",
        "*   Análisis de resultados, obtención de métricas de *precision* y *recall* por clase y análisis de qué clases obtienen mejores o peores resultados.\n",
        "*   Análisis visual de los errores de la red. ¿Qué tipo de imágenes o qué personajes dan más problemas a nuestro modelo?\n",
        "*   Comparación de modelos CNNs con un modelo de Fully Connected para este problema.\n",
        "*   Utilización de distintas arquitecturas CNNs, comentando aspectos como su profundidad, hiperparámetros utilizados, optimizador, uso de técnicas de regularización, *batch normalization*, etc.\n",
        "*   [ *algo más difícil* ] Utilización de *data augmentation*. Esto puede conseguirse con la clase [ImageDataGenerator](https://keras.io/preprocessing/image/#imagedatagenerator-class) de Keras.\n",
        "\n",
        "Notas:\n",
        "* Recuerda partir los datos en training/validation para tener una buena estimación de los valores que nuestro modelo tendrá en los datos de test, así como comprobar que no estamos cayendo en overfitting. Una posible partición puede ser 80 / 20.\n",
        "* No es necesario mostrar en el notebook las trazas de entrenamiento de todos los modelos entrenados, si bien una buena idea seria guardar gráficas de esos entrenamientos para el análisis. Sin embargo, **se debe mostrar el entrenamiento completo del mejor modelo obtenido y la evaluación de los datos de test con este modelo**.\n",
        "* Las imágenes **no están normalizadas**. Hay que normalizarlas como hemos hecho en trabajos anteriores.\n",
        "* El test set del problema tiene imágenes un poco más \"fáciles\", por lo que es posible encontrarse con métricas en el test set bastante mejores que en el training set."
      ]
    },
    {
      "cell_type": "markdown",
      "source": [
        "# Análisis y preparación de datos\n",
        "El dataset utilizado contiene imágenes de 18 personajes de Los Simpsons organizadas en carpetas por cada personaje. En el código base mostrado anteriormente hemos descargado y descrompimido el dataset, además de redimensionar las imágenes a un tamaño estándar de 64x64 píxeles.\n",
        "Las imágenes se cargan y redimensionan utilizando las funciones 'load_train_set' y 'load_test_set' para, posteriormente, barajar los datos de forma aleatoria para evitar sesgos durante el entrenamiento y la validación del modelo.\n",
        "\n",
        "Tras ello, realizamos los siguinetes pasos:\n",
        "### Normalización\n",
        "Las imágenes se normalizan para escalar los valores a un rango de 0 a 1.\n",
        "### División del conjunto en datos de entremiento y test\n",
        "Importamos la función 'train_test_split' de la biblioteca scikit-learn para dividir el conjunto de datos en un 80% para entrenamiento y un 20% para validación. De esta forma intentaremos lograr una buena estimación del rendimiento requerido. Utilizamos la semilla predeterminada (42) para garantizar reproducibilidad.\n",
        "Para verificar que las divisiones de datos se han realizado correctamente, imprimiremos las dimesiones de los conjuntos resultantes."
      ],
      "metadata": {
        "id": "kmkMbtnZoMWI"
      }
    },
    {
      "cell_type": "code",
      "source": [
        "# Normalización\n",
        "X = X/255.0\n",
        "X_t = X_t/255.0\n",
        "\n",
        "# Entrenamiento y Test\n",
        "from sklearn.model_selection import train_test_split\n",
        "\n",
        "X_train, X_val, y_train, y_val = train_test_split(X, y, test_size=0.2, random_state=42)\n",
        "\n",
        "print(\"Tamaño del conjunto de entrenamiento:\", X_train.shape, y_train.shape)\n",
        "print(\"Tamaño del conjunto de validación:\", X_val.shape, y_val.shape)"
      ],
      "metadata": {
        "id": "PyqZAqGTrkTL",
        "colab": {
          "base_uri": "https://localhost:8080/"
        },
        "outputId": "224c053d-9c63-4e8f-a53b-b1112638a010"
      },
      "execution_count": 12,
      "outputs": [
        {
          "output_type": "stream",
          "name": "stdout",
          "text": [
            "Tamaño del conjunto de entrenamiento: (15193, 64, 64, 3) (15193,)\n",
            "Tamaño del conjunto de validación: (3799, 64, 64, 3) (3799,)\n"
          ]
        }
      ]
    },
    {
      "cell_type": "markdown",
      "source": [
        "# Análisis de resultados\n",
        "### Construcción de la red neuronal convolucional (CNN) utilizando Keras\n",
        "La arquitectura del modelo incluye varias capas convolucionales seguidas de capas max-pooling para reducir la dimensionalidad en las salidas de las capas de convolución. Además, incluimos una capa Flatten, una capa Dense completamente conectada y una capa de salida con el número de instancias a clasificar (18 personajes de Los Simpsons) con una función de activación Softmax."
      ],
      "metadata": {
        "id": "oZu3PP6NvNtQ"
      }
    },
    {
      "cell_type": "code",
      "source": [
        "from tensorflow.keras.models import Sequential\n",
        "from tensorflow.keras.layers import Conv2D, MaxPooling2D, Flatten, Dense, Dropout\n",
        "\n",
        "model = Sequential([\n",
        "    Conv2D(32, (3, 3), activation='relu', input_shape=(64, 64, 3)), # Tamaño de imagenes de 64x64\n",
        "    MaxPooling2D((2, 2)),\n",
        "    Conv2D(64, (3, 3), activation='relu'),\n",
        "    MaxPooling2D((2, 2)),\n",
        "    Conv2D(128, (3, 3), activation='relu'),\n",
        "    MaxPooling2D((2, 2)),\n",
        "    Flatten(),\n",
        "    Dense(512, activation='relu'),\n",
        "    Dropout(0.5),\n",
        "    Dense(18, activation='softmax')\n",
        "])\n",
        "\n",
        "model.compile(optimizer='adam', loss='sparse_categorical_crossentropy', metrics=['accuracy'])"
      ],
      "metadata": {
        "id": "A-XZdD0juRQM"
      },
      "execution_count": 13,
      "outputs": []
    },
    {
      "cell_type": "markdown",
      "source": [
        "### Entrenamiento del modelo\n",
        "Establecemos los parámetros de entrenamiento para intentar optimizar el rendimiento del modelo.\n",
        "\n",
        "· Optmizador Adam para lograr una convergencia rápida y robustez en la solución, además de la adaptación de la tasa de aprendizaje en cada iteración para cada parámetro.\n",
        "\n",
        "· Entropía cruzada para problemas multiclase (18 personajes)"
      ],
      "metadata": {
        "id": "_RIKC4GC5Iby"
      }
    },
    {
      "cell_type": "code",
      "source": [
        "history = model.fit(X_train, y_train, epochs=10, validation_data=(X_val, y_val), batch_size=32)"
      ],
      "metadata": {
        "id": "6AEVl-3quRSt",
        "colab": {
          "base_uri": "https://localhost:8080/"
        },
        "outputId": "4daaa297-8d28-4ecd-9c4a-b477543346a8"
      },
      "execution_count": 14,
      "outputs": [
        {
          "output_type": "stream",
          "name": "stdout",
          "text": [
            "Epoch 1/10\n",
            "475/475 [==============================] - 12s 12ms/step - loss: 1.9460 - accuracy: 0.4062 - val_loss: 1.2338 - val_accuracy: 0.6391\n",
            "Epoch 2/10\n",
            "475/475 [==============================] - 3s 7ms/step - loss: 1.0334 - accuracy: 0.6908 - val_loss: 0.7851 - val_accuracy: 0.7663\n",
            "Epoch 3/10\n",
            "475/475 [==============================] - 4s 8ms/step - loss: 0.6718 - accuracy: 0.7964 - val_loss: 0.6172 - val_accuracy: 0.8286\n",
            "Epoch 4/10\n",
            "475/475 [==============================] - 4s 8ms/step - loss: 0.4611 - accuracy: 0.8570 - val_loss: 0.5472 - val_accuracy: 0.8457\n",
            "Epoch 5/10\n",
            "475/475 [==============================] - 4s 8ms/step - loss: 0.3084 - accuracy: 0.9081 - val_loss: 0.6007 - val_accuracy: 0.8410\n",
            "Epoch 6/10\n",
            "475/475 [==============================] - 3s 7ms/step - loss: 0.2082 - accuracy: 0.9339 - val_loss: 0.5501 - val_accuracy: 0.8605\n",
            "Epoch 7/10\n",
            "475/475 [==============================] - 3s 7ms/step - loss: 0.1650 - accuracy: 0.9468 - val_loss: 0.5583 - val_accuracy: 0.8692\n",
            "Epoch 8/10\n",
            "475/475 [==============================] - 4s 9ms/step - loss: 0.1342 - accuracy: 0.9568 - val_loss: 0.6027 - val_accuracy: 0.8652\n",
            "Epoch 9/10\n",
            "475/475 [==============================] - 4s 8ms/step - loss: 0.1198 - accuracy: 0.9614 - val_loss: 0.5848 - val_accuracy: 0.8747\n",
            "Epoch 10/10\n",
            "475/475 [==============================] - 3s 7ms/step - loss: 0.0961 - accuracy: 0.9683 - val_loss: 0.6224 - val_accuracy: 0.8647\n"
          ]
        }
      ]
    },
    {
      "cell_type": "markdown",
      "source": [
        "# Evaluación del modelo\n",
        "Comprobamos métricas del modelo como la precisión, el recall y el F1-score para cada clase del dataset, es decir, para cada personaje de Los Simpsons analizado."
      ],
      "metadata": {
        "id": "CYaueLcI7gq5"
      }
    },
    {
      "cell_type": "code",
      "source": [
        "from sklearn.metrics import classification_report\n",
        "\n",
        "y_pred = model.predict(X_t)\n",
        "y_pred_classes = np.argmax(y_pred, axis=1)\n",
        "\n",
        "print(classification_report(y_t, y_pred_classes, target_names=[v for k, v in MAP_CHARACTERS.items()]))"
      ],
      "metadata": {
        "colab": {
          "base_uri": "https://localhost:8080/"
        },
        "id": "no4eRtaB7ww3",
        "outputId": "bb7b7997-9c96-4567-9a02-2872d69edbc3"
      },
      "execution_count": 15,
      "outputs": [
        {
          "output_type": "stream",
          "name": "stdout",
          "text": [
            "28/28 [==============================] - 0s 9ms/step\n",
            "                          precision    recall  f1-score   support\n",
            "\n",
            "  abraham_grampa_simpson       0.98      0.94      0.96        48\n",
            "  apu_nahasapeemapetilon       0.96      1.00      0.98        50\n",
            "            bart_simpson       0.88      0.92      0.90        50\n",
            "charles_montgomery_burns       0.94      0.92      0.93        48\n",
            "            chief_wiggum       1.00      0.98      0.99        50\n",
            "          comic_book_guy       0.98      0.94      0.96        49\n",
            "          edna_krabappel       1.00      0.92      0.96        50\n",
            "           homer_simpson       1.00      0.98      0.99        50\n",
            "           kent_brockman       0.98      0.94      0.96        50\n",
            "        krusty_the_clown       0.98      1.00      0.99        50\n",
            "            lisa_simpson       0.92      0.92      0.92        50\n",
            "           marge_simpson       1.00      0.98      0.99        50\n",
            "     milhouse_van_houten       1.00      0.92      0.96        49\n",
            "             moe_szyslak       0.96      0.98      0.97        50\n",
            "            ned_flanders       0.96      0.98      0.97        49\n",
            "            nelson_muntz       1.00      0.96      0.98        50\n",
            "       principal_skinner       0.83      1.00      0.91        50\n",
            "            sideshow_bob       0.94      1.00      0.97        47\n",
            "\n",
            "                accuracy                           0.96       890\n",
            "               macro avg       0.96      0.96      0.96       890\n",
            "            weighted avg       0.96      0.96      0.96       890\n",
            "\n"
          ]
        }
      ]
    },
    {
      "cell_type": "markdown",
      "source": [
        "# Análisis de resultados\n",
        "El informe de clasificación muestras las métricas de precisión, recall, F1-score y soporte para cada clase del dataset.\n",
        "\n",
        "Podemos comprobar de forma sencilla que se cumplen sobradamente los requisitos de precisión (accuracy) superiores al 85%, llegando en algunos casos a una precisión del modelo del 100%. De media, nuestro modelo tiene una precisión del 96%.\n",
        "\n",
        "Si analizamos los resultados por clases, podemos observar que los personajes chief_wiggum, homer_simpson y marge_simpson (por ejemplo), tienen unas métricas de rendimiento casi perfectas, lo que nos indica que el modelo identifica personajes sin comerter prácticamente errores en la clasificación.\n",
        "\n",
        "Por otro lado, la clase principal_skinner es la que peor ha clasificado nuestro modelo, aunque también tiene un excepcional rendimiento superior al 83% de precisión y con un recall del 100%. La precisión del 83% es un indicador de que el modelo clasifica imagenes del director Skinner incorrectamente (Falsos Positivos) de forma más frecuente que para otras clases.\n",
        "\n",
        "Para mejorar el modelo podríamos aumentar los datos para clases con peores métricas y así mejorar los entrenamientos para una mejora posterior en la clasificación. El ajuste de hiperparámetros se ha realizado previamente y la configuración establecida es la que mejores resultados ha ofrecido."
      ],
      "metadata": {
        "id": "XynaXOqTBUvV"
      }
    },
    {
      "cell_type": "code",
      "source": [],
      "metadata": {
        "id": "mfCF0yCN8H0F"
      },
      "execution_count": null,
      "outputs": []
    }
  ]
}