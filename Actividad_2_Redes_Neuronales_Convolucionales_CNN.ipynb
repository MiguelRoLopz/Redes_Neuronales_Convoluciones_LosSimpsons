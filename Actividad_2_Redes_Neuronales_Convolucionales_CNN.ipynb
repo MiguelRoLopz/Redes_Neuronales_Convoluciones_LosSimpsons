{
  "nbformat": 4,
  "nbformat_minor": 0,
  "metadata": {
    "colab": {
      "provenance": [],
      "gpuType": "T4",
      "include_colab_link": true
    },
    "kernelspec": {
      "name": "python3",
      "display_name": "Python 3"
    },
    "accelerator": "GPU"
  },
  "cells": [
    {
      "cell_type": "markdown",
      "metadata": {
        "id": "view-in-github",
        "colab_type": "text"
      },
      "source": [
        "<a href=\"https://colab.research.google.com/github/MiguelRoLopz/Redes_Neuronales_Convoluciones_LosSimpsons/blob/main/Actividad_2_Redes_Neuronales_Convolucionales_CNN.ipynb\" target=\"_parent\"><img src=\"https://colab.research.google.com/assets/colab-badge.svg\" alt=\"Open In Colab\"/></a>"
      ]
    },
    {
      "cell_type": "markdown",
      "metadata": {
        "id": "mX8gZlVyCCbz"
      },
      "source": [
        "# ACTIVIDAD 2: REDES NEURONALES CONVOLUCIONALES\n",
        "\n",
        "---\n",
        "\n",
        "En esta actividad, vamos a trabajar con Convolutional Neural Networks para resolver un problema de clasificación de imágenes. En particular, vamos a clasificar imágenes de personajes de la conocida serie de los Simpsons.\n",
        "\n",
        "Como las CNN profundas son un tipo de modelo bastante avanzado y computacionalmente costoso, se recomienda hacer la práctica en Google Colaboratory con soporte para GPUs. En [este enlace](https://medium.com/deep-learning-turkey/google-colab-free-gpu-tutorial-e113627b9f5d) se explica cómo activar un entorno con GPUs. *Nota: para leer las imágenes y estandarizarlas al mismo tamaño se usa la librería opencv. Esta ĺibrería está ya instalada en el entorno de Colab, pero si trabajáis de manera local tendréis que instalarla.*\n",
        "\n",
        "<center><img src=\"https://i.imgur.com/i8zIGqX.jpg\" style=\"text-align: center\" height=\"300px\"></center>\n",
        "\n",
        "El dataset a utilizar consiste en imágenes de personajes de los Simpsons extraídas directamente de capítulos de la serie. Este dataset ha sido recopilado por [Alexandre Attia](http://www.alexattia.fr/) y es más complejo que el dataset de Fashion MNIST que hemos utilizado hasta ahora. Aparte de tener más clases (vamos a utilizar los 18 personajes con más imágenes), los personajes pueden aparecer en distintas poses, en distintas posiciones de la imagen o con otros personajes en pantalla (si bien el personaje a clasificar siempre aparece en la posición predominante).\n",
        "\n",
        "El dataset de training puede ser descargado desde aquí:\n",
        "\n",
        "[Training data](https://onedrive.live.com/download?cid=C506CF0A4F373B0F&resid=C506CF0A4F373B0F%219337&authkey=AMzI92bJPx8Sd60) (~500MB)\n",
        "\n",
        "Por otro lado, el dataset de test puede ser descargado de aquí:\n",
        "\n",
        "[Test data](https://onedrive.live.com/download?cid=C506CF0A4F373B0F&resid=C506CF0A4F373B0F%219341&authkey=ANnjK3Uq1FhuAe8) (~10MB)\n",
        "\n",
        "Antes de empezar la práctica, se recomienda descargar las imágenes y echarlas un vistazo.\n"
      ]
    },
    {
      "cell_type": "markdown",
      "metadata": {
        "id": "QI274F8LQC59"
      },
      "source": [
        "## Carga de los datos"
      ]
    },
    {
      "cell_type": "code",
      "metadata": {
        "id": "D7tKOZ9BFfki"
      },
      "source": [
        "import cv2\n",
        "import os\n",
        "import numpy as np\n",
        "import keras\n",
        "from tensorflow import keras\n",
        "import matplotlib.pyplot as plt\n",
        "import glob\n",
        "import tensorflow as tf\n",
        "\n"
      ],
      "execution_count": null,
      "outputs": []
    },
    {
      "cell_type": "code",
      "source": [
        "# Primero, bajamos los datos de entrenamiento\n",
        "keras.utils.get_file(fname=\"simpsons_train.tar.gz\",\n",
        "                     origin=\"https://onedrive.live.com/download?cid=C506CF0A4F373B0F&resid=C506CF0A4F373B0F%219337&authkey=AMzI92bJPx8Sd60\")\n",
        "\n",
        "# Descomprimimos el archivo\n",
        "!tar -xzf /root/.keras/datasets/simpsons_train.tar.gz -C /root/.keras/datasets\n",
        "\n",
        "\n",
        "# Hacemos lo mismo con los datos de test\n",
        "keras.utils.get_file(fname=\"simpsons_test.tar.gz\",\n",
        "                     origin=\"https://onedrive.live.com/download?cid=C506CF0A4F373B0F&resid=C506CF0A4F373B0F%219341&authkey=ANnjK3Uq1FhuAe8\")\n",
        "!tar -xzf /root/.keras/datasets/simpsons_test.tar.gz -C /root/.keras/datasets"
      ],
      "metadata": {
        "id": "iw0apA7ruy1c",
        "colab": {
          "base_uri": "https://localhost:8080/"
        },
        "outputId": "81f27b4c-98ca-498f-be42-1e8062ede03f"
      },
      "execution_count": null,
      "outputs": [
        {
          "output_type": "stream",
          "name": "stdout",
          "text": [
            "Downloading data from https://onedrive.live.com/download?cid=C506CF0A4F373B0F&resid=C506CF0A4F373B0F%219337&authkey=AMzI92bJPx8Sd60\n",
            "523789527/523789527 [==============================] - 24s 0us/step\n",
            "Downloading data from https://onedrive.live.com/download?cid=C506CF0A4F373B0F&resid=C506CF0A4F373B0F%219341&authkey=ANnjK3Uq1FhuAe8\n",
            "10658925/10658925 [==============================] - 2s 0us/step\n"
          ]
        }
      ]
    },
    {
      "cell_type": "code",
      "source": [
        "# Descomprimimos el archivo en tmp para visualizar\n",
        "# !tar -xzf /root/.keras/datasets/simpsons_train.tar.gz -C /tmp/simpsons"
      ],
      "metadata": {
        "id": "_HIhp512sPUJ"
      },
      "execution_count": null,
      "outputs": []
    },
    {
      "cell_type": "code",
      "metadata": {
        "id": "hMFhe3COFwSD"
      },
      "source": [
        "# Esta variable contiene un mapeo de número de clase a personaje.\n",
        "# Utilizamos sólo los 18 personajes del dataset que tienen más imágenes.\n",
        "MAP_CHARACTERS = {\n",
        "    0: 'abraham_grampa_simpson', 1: 'apu_nahasapeemapetilon', 2: 'bart_simpson',\n",
        "    3: 'charles_montgomery_burns', 4: 'chief_wiggum', 5: 'comic_book_guy', 6: 'edna_krabappel',\n",
        "    7: 'homer_simpson', 8: 'kent_brockman', 9: 'krusty_the_clown', 10: 'lisa_simpson',\n",
        "    11: 'marge_simpson', 12: 'milhouse_van_houten', 13: 'moe_szyslak',\n",
        "    14: 'ned_flanders', 15: 'nelson_muntz', 16: 'principal_skinner', 17: 'sideshow_bob'\n",
        "}\n",
        "\n",
        "# Vamos a standarizar todas las imágenes a tamaño 64x64\n",
        "IMG_SIZE = 64"
      ],
      "execution_count": null,
      "outputs": []
    },
    {
      "cell_type": "code",
      "metadata": {
        "id": "5bJ0NsbCbupF"
      },
      "source": [
        "def load_train_set(dirname, map_characters, verbose=True):\n",
        "    \"\"\"Esta función carga los datos de training en imágenes.\n",
        "\n",
        "    Como las imágenes tienen tamaños distintas, utilizamos la librería opencv\n",
        "    para hacer un resize y adaptarlas todas a tamaño IMG_SIZE x IMG_SIZE.\n",
        "\n",
        "    Args:\n",
        "        dirname: directorio completo del que leer los datos\n",
        "        map_characters: variable de mapeo entre labels y personajes\n",
        "        verbose: si es True, muestra información de las imágenes cargadas\n",
        "\n",
        "    Returns:\n",
        "        X, y: X es un array con todas las imágenes cargadas con tamaño\n",
        "                IMG_SIZE x IMG_SIZE\n",
        "              y es un array con las labels de correspondientes a cada imagen\n",
        "    \"\"\"\n",
        "    X_train = []\n",
        "    y_train = []\n",
        "    for label, character in map_characters.items():\n",
        "        files = os.listdir(os.path.join(dirname, character))\n",
        "        images = [file for file in files if file.endswith(\"jpg\")]\n",
        "        if verbose:\n",
        "          print(\"Leyendo {} imágenes encontradas de {}\".format(len(images), character))\n",
        "        for image_name in images:\n",
        "            image = cv2.imread(os.path.join(dirname, character, image_name))\n",
        "            X_train.append(cv2.resize(image,(IMG_SIZE, IMG_SIZE)))\n",
        "            y_train.append(label)\n",
        "    return np.array(X_train), np.array(y_train)"
      ],
      "execution_count": null,
      "outputs": []
    },
    {
      "cell_type": "code",
      "metadata": {
        "id": "NslxhnnDK6uA"
      },
      "source": [
        "def load_test_set(dirname, map_characters, verbose=True):\n",
        "    \"\"\"Esta función funciona de manera equivalente a la función load_train_set\n",
        "    pero cargando los datos de test.\"\"\"\n",
        "    X_test = []\n",
        "    y_test = []\n",
        "    reverse_dict = {v: k for k, v in map_characters.items()}\n",
        "    for filename in glob.glob(dirname + '/*.*'):\n",
        "        char_name = \"_\".join(filename.split('/')[-1].split('_')[:-1])\n",
        "        if char_name in reverse_dict:\n",
        "            image = cv2.imread(filename)\n",
        "            image = cv2.resize(image, (IMG_SIZE, IMG_SIZE))\n",
        "            X_test.append(image)\n",
        "            y_test.append(reverse_dict[char_name])\n",
        "    if verbose:\n",
        "        print(\"Leídas {} imágenes de test\".format(len(X_test)))\n",
        "    return np.array(X_test), np.array(y_test)\n"
      ],
      "execution_count": null,
      "outputs": []
    },
    {
      "cell_type": "code",
      "metadata": {
        "id": "WVWqKxFcbwTu",
        "colab": {
          "base_uri": "https://localhost:8080/"
        },
        "outputId": "b5456219-cc52-4383-be40-f4906886621a"
      },
      "source": [
        "# Cargamos los datos. Si no estás trabajando en colab, cambia los paths por\n",
        "# los de los ficheros donde hayas descargado los datos.\n",
        "DATASET_TRAIN_PATH_COLAB = \"/root/.keras/datasets/simpsons\"\n",
        "DATASET_TEST_PATH_COLAB = \"/root/.keras/datasets/simpsons_testset\"\n",
        "\n",
        "X, y = load_train_set(DATASET_TRAIN_PATH_COLAB, MAP_CHARACTERS)\n",
        "X_t, y_t = load_test_set(DATASET_TEST_PATH_COLAB, MAP_CHARACTERS)"
      ],
      "execution_count": null,
      "outputs": [
        {
          "output_type": "stream",
          "name": "stdout",
          "text": [
            "Leyendo 913 imágenes encontradas de abraham_grampa_simpson\n",
            "Leyendo 623 imágenes encontradas de apu_nahasapeemapetilon\n",
            "Leyendo 1342 imágenes encontradas de bart_simpson\n",
            "Leyendo 1193 imágenes encontradas de charles_montgomery_burns\n",
            "Leyendo 986 imágenes encontradas de chief_wiggum\n",
            "Leyendo 469 imágenes encontradas de comic_book_guy\n",
            "Leyendo 457 imágenes encontradas de edna_krabappel\n",
            "Leyendo 2246 imágenes encontradas de homer_simpson\n",
            "Leyendo 498 imágenes encontradas de kent_brockman\n",
            "Leyendo 1206 imágenes encontradas de krusty_the_clown\n",
            "Leyendo 1354 imágenes encontradas de lisa_simpson\n",
            "Leyendo 1291 imágenes encontradas de marge_simpson\n",
            "Leyendo 1079 imágenes encontradas de milhouse_van_houten\n",
            "Leyendo 1452 imágenes encontradas de moe_szyslak\n",
            "Leyendo 1454 imágenes encontradas de ned_flanders\n",
            "Leyendo 358 imágenes encontradas de nelson_muntz\n",
            "Leyendo 1194 imágenes encontradas de principal_skinner\n",
            "Leyendo 877 imágenes encontradas de sideshow_bob\n",
            "Leídas 890 imágenes de test\n"
          ]
        }
      ]
    },
    {
      "cell_type": "code",
      "metadata": {
        "id": "2GY4vTFyfffv"
      },
      "source": [
        "# Vamos a barajar aleatoriamente los datos. Esto es importante ya que si no\n",
        "# lo hacemos y, por ejemplo, cogemos el 20% de los datos finales como validation\n",
        "# set, estaremos utilizando solo un pequeño número de personajes, ya que\n",
        "# las imágenes se leen secuencialmente personaje a personaje.\n",
        "perm = np.random.permutation(len(X))\n",
        "X, y = X[perm], y[perm]"
      ],
      "execution_count": null,
      "outputs": []
    },
    {
      "cell_type": "code",
      "source": [
        "plt.imshow(X_t[2]) # recordad que siempre es preferible trabajar en blanco y negro\n"
      ],
      "metadata": {
        "colab": {
          "base_uri": "https://localhost:8080/",
          "height": 449
        },
        "id": "IOoQ7_0GrylF",
        "outputId": "e9fef62d-d78a-4411-c8fc-74bc48cb4930"
      },
      "execution_count": null,
      "outputs": [
        {
          "output_type": "execute_result",
          "data": {
            "text/plain": [
              "<matplotlib.image.AxesImage at 0x7a4791f083d0>"
            ]
          },
          "metadata": {},
          "execution_count": 9
        },
        {
          "output_type": "display_data",
          "data": {
            "text/plain": [
              "<Figure size 640x480 with 1 Axes>"
            ],
            "image/png": "[encoded data removed]"
          },
          "metadata": {}
        }
      ]
    },
    {
      "cell_type": "markdown",
      "metadata": {
        "id": "pBbmz9DMhVhc"
      },
      "source": [
        "## Ejercicio\n",
        "\n",
        "Utilizando Convolutional Neural Networks con Keras, entrenar un clasificador que sea capaz de reconocer personajes en imágenes de los Simpsons con una accuracy en el dataset de test de, al menos, **85%**. Redactar un informe analizando varias de las alternativas probadas y los resultados obtenidos.\n",
        "\n",
        "A continuación se detallan una serie de aspectos orientativos que podrían ser analizados en vuestro informe (no es necesario tratar todos ellos ni mucho menos, esto son ideas orientativas de aspectos que podéis explorar):\n",
        "\n",
        "*   Análisis de los datos a utilizar.\n",
        "*   Análisis de resultados, obtención de métricas de *precision* y *recall* por clase y análisis de qué clases obtienen mejores o peores resultados.\n",
        "*   Análisis visual de los errores de la red. ¿Qué tipo de imágenes o qué personajes dan más problemas a nuestro modelo?\n",
        "*   Comparación de modelos CNNs con un modelo de Fully Connected para este problema.\n",
        "*   Utilización de distintas arquitecturas CNNs, comentando aspectos como su profundidad, hiperparámetros utilizados, optimizador, uso de técnicas de regularización, *batch normalization*, etc.\n",
        "*   [ *algo más difícil* ] Utilización de *data augmentation*. Esto puede conseguirse con la clase [ImageDataGenerator](https://keras.io/preprocessing/image/#imagedatagenerator-class) de Keras.\n",
        "\n",
        "Notas:\n",
        "* Recuerda partir los datos en training/validation para tener una buena estimación de los valores que nuestro modelo tendrá en los datos de test, así como comprobar que no estamos cayendo en overfitting. Una posible partición puede ser 80 / 20.\n",
        "* No es necesario mostrar en el notebook las trazas de entrenamiento de todos los modelos entrenados, si bien una buena idea seria guardar gráficas de esos entrenamientos para el análisis. Sin embargo, **se debe mostrar el entrenamiento completo del mejor modelo obtenido y la evaluación de los datos de test con este modelo**.\n",
        "* Las imágenes **no están normalizadas**. Hay que normalizarlas como hemos hecho en trabajos anteriores.\n",
        "* El test set del problema tiene imágenes un poco más \"fáciles\", por lo que es posible encontrarse con métricas en el test set bastante mejores que en el training set."
      ]
    },
    {
      "cell_type": "markdown",
      "source": [
        "# Análisis y preparación de datos\n",
        "El dataset utilizado contiene imágenes de 18 personajes de Los Simpsons organizadas en carpetas por cada personaje. En el código base mostrado anteriormente hemos descargado y descrompimido el dataset, además de redimensionar las imágenes a un tamaño estándar de 64x64 píxeles.\n",
        "Las imágenes se cargan y redimensionan utilizando las funciones 'load_train_set' y 'load_test_set' para, posteriormente, barajar los datos de forma aleatoria para evitar sesgos durante el entrenamiento y la validación del modelo.\n",
        "\n",
        "Tras ello, realizamos los siguinetes pasos:\n",
        "### Normalización\n",
        "Las imágenes se normalizan para escalar los valores a un rango de 0 a 1.\n",
        "### División del conjunto en datos de entremiento y test\n",
        "Importamos la función 'train_test_split' de la biblioteca scikit-learn para dividir el conjunto de datos en un 80% para entrenamiento y un 20% para validación. De esta forma intentaremos lograr una buena estimación del rendimiento requerido. Utilizamos la semilla predeterminada (42) para garantizar reproducibilidad.\n",
        "Para verificar que las divisiones de datos se han realizado correctamente, imprimiremos las dimesiones de los conjuntos resultantes."
      ],
      "metadata": {
        "id": "kmkMbtnZoMWI"
      }
    },
    {
      "cell_type": "code",
      "source": [
        "# Normalización\n",
        "X = X/255.0\n",
        "X_t = X_t/255.0\n",
        "\n",
        "# Entrenamiento y Test\n",
        "from sklearn.model_selection import train_test_split\n",
        "\n",
        "X_train, X_val, y_train, y_val = train_test_split(X, y, test_size=0.2, random_state=42)\n",
        "\n",
        "print(\"Tamaño del conjunto de entrenamiento:\", X_train.shape, y_train.shape)\n",
        "print(\"Tamaño del conjunto de validación:\", X_val.shape, y_val.shape)"
      ],
      "metadata": {
        "id": "PyqZAqGTrkTL",
        "colab": {
          "base_uri": "https://localhost:8080/"
        },
        "outputId": "7dd49dda-5941-4ff6-bb24-6d216ba04868"
      },
      "execution_count": null,
      "outputs": [
        {
          "output_type": "stream",
          "name": "stdout",
          "text": [
            "Tamaño del conjunto de entrenamiento: (15193, 64, 64, 3) (15193,)\n",
            "Tamaño del conjunto de validación: (3799, 64, 64, 3) (3799,)\n"
          ]
        }
      ]
    },
    {
      "cell_type": "markdown",
      "source": [
        "# Análisis de resultados\n",
        "### Construcción de la red neuronal convolucional (CNN) utilizando Keras\n",
        "La arquitectura del modelo incluye varias capas convolucionales seguidas de capas max-pooling para reducir la dimensionalidad en las salidas de las capas de convolución. Además, incluimos una capa Flatten, una capa Dense completamente conectada y una capa de salida con el número de instancias a clasificar (18 personajes de Los Simpsons) con una función de activación Softmax."
      ],
      "metadata": {
        "id": "oZu3PP6NvNtQ"
      }
    },
    {
      "cell_type": "code",
      "source": [
        "from tensorflow.keras.models import Sequential\n",
        "from tensorflow.keras.layers import Conv2D, MaxPooling2D, Flatten, Dense, Dropout\n",
        "\n",
        "model = Sequential([\n",
        "    Conv2D(32, (3, 3), activation='relu', input_shape=(64, 64, 3)), # Tamaño de imagenes de 64x64\n",
        "    MaxPooling2D((2, 2)),\n",
        "    Conv2D(64, (3, 3), activation='relu'),\n",
        "    MaxPooling2D((2, 2)),\n",
        "    Conv2D(128, (3, 3), activation='relu'),\n",
        "    MaxPooling2D((2, 2)),\n",
        "    Flatten(),\n",
        "    Dense(512, activation='relu'),\n",
        "    Dropout(0.5),\n",
        "    Dense(18, activation='softmax')\n",
        "])\n",
        "\n",
        "model.compile(optimizer='adam', loss='sparse_categorical_crossentropy', metrics=['accuracy'])"
      ],
      "metadata": {
        "id": "A-XZdD0juRQM"
      },
      "execution_count": null,
      "outputs": []
    },
    {
      "cell_type": "markdown",
      "source": [
        "### Entrenamiento del modelo\n",
        "Establecemos los parámetros de entrenamiento para intentar optimizar el rendimiento del modelo.\n",
        "\n",
        "· Optmizador Adam para lograr una convergencia rápida y robustez en la solución, además de la adaptación de la tasa de aprendizaje en cada iteración para cada parámetro.\n",
        "\n",
        "· Entropía cruzada para problemas multiclase (18 personajes)"
      ],
      "metadata": {
        "id": "_RIKC4GC5Iby"
      }
    },
    {
      "cell_type": "code",
      "source": [
        "np.random.seed(2)\n",
        "tf.random.set_seed(2)\n",
        "history = model.fit(X_train, y_train, epochs=10, validation_data=(X_val, y_val), batch_size=32)"
      ],
      "metadata": {
        "id": "6AEVl-3quRSt",
        "colab": {
          "base_uri": "https://localhost:8080/"
        },
        "outputId": "e0270887-7bab-4d21-b266-f8d5af06d47c"
      },
      "execution_count": null,
      "outputs": [
        {
          "output_type": "stream",
          "name": "stdout",
          "text": [
            "Epoch 1/10\n",
            "475/475 [==============================] - 11s 9ms/step - loss: 2.0247 - accuracy: 0.3831 - val_loss: 1.3013 - val_accuracy: 0.6223\n",
            "Epoch 2/10\n",
            "475/475 [==============================] - 3s 7ms/step - loss: 1.1142 - accuracy: 0.6619 - val_loss: 0.8231 - val_accuracy: 0.7557\n",
            "Epoch 3/10\n",
            "475/475 [==============================] - 4s 9ms/step - loss: 0.7264 - accuracy: 0.7798 - val_loss: 0.7085 - val_accuracy: 0.7942\n",
            "Epoch 4/10\n",
            "475/475 [==============================] - 4s 8ms/step - loss: 0.4955 - accuracy: 0.8470 - val_loss: 0.5936 - val_accuracy: 0.8313\n",
            "Epoch 5/10\n",
            "475/475 [==============================] - 4s 8ms/step - loss: 0.3455 - accuracy: 0.8894 - val_loss: 0.5829 - val_accuracy: 0.8418\n",
            "Epoch 6/10\n",
            "475/475 [==============================] - 4s 8ms/step - loss: 0.2325 - accuracy: 0.9265 - val_loss: 0.5700 - val_accuracy: 0.8555\n",
            "Epoch 7/10\n",
            "475/475 [==============================] - 4s 8ms/step - loss: 0.1959 - accuracy: 0.9348 - val_loss: 0.6424 - val_accuracy: 0.8339\n",
            "Epoch 8/10\n",
            "475/475 [==============================] - 3s 7ms/step - loss: 0.1392 - accuracy: 0.9570 - val_loss: 0.6465 - val_accuracy: 0.8508\n",
            "Epoch 9/10\n",
            "475/475 [==============================] - 3s 7ms/step - loss: 0.1127 - accuracy: 0.9647 - val_loss: 0.6473 - val_accuracy: 0.8586\n",
            "Epoch 10/10\n",
            "475/475 [==============================] - 4s 9ms/step - loss: 0.1079 - accuracy: 0.9653 - val_loss: 0.7041 - val_accuracy: 0.8455\n"
          ]
        }
      ]
    },
    {
      "cell_type": "markdown",
      "source": [
        "# Evaluación del modelo\n",
        "Comprobamos métricas del modelo como la precisión, el recall y el F1-score para cada clase del dataset, es decir, para cada personaje de Los Simpsons analizado."
      ],
      "metadata": {
        "id": "CYaueLcI7gq5"
      }
    },
    {
      "cell_type": "code",
      "source": [
        "from sklearn.metrics import classification_report\n",
        "\n",
        "y_pred = model.predict(X_t)\n",
        "y_pred_classes = np.argmax(y_pred, axis=1)\n",
        "\n",
        "print(classification_report(y_t, y_pred_classes, target_names=[v for k, v in MAP_CHARACTERS.items()]))"
      ],
      "metadata": {
        "colab": {
          "base_uri": "https://localhost:8080/"
        },
        "id": "no4eRtaB7ww3",
        "outputId": "c8e3b2ef-462e-440a-a5db-410ad5d4bc5e"
      },
      "execution_count": null,
      "outputs": [
        {
          "output_type": "stream",
          "name": "stdout",
          "text": [
            "28/28 [==============================] - 0s 9ms/step\n",
            "                          precision    recall  f1-score   support\n",
            "\n",
            "  abraham_grampa_simpson       0.94      0.92      0.93        48\n",
            "  apu_nahasapeemapetilon       0.96      1.00      0.98        50\n",
            "            bart_simpson       0.87      0.96      0.91        50\n",
            "charles_montgomery_burns       0.92      0.96      0.94        48\n",
            "            chief_wiggum       0.96      1.00      0.98        50\n",
            "          comic_book_guy       0.98      0.96      0.97        49\n",
            "          edna_krabappel       0.98      0.92      0.95        50\n",
            "           homer_simpson       0.85      0.92      0.88        50\n",
            "           kent_brockman       1.00      0.96      0.98        50\n",
            "        krusty_the_clown       1.00      1.00      1.00        50\n",
            "            lisa_simpson       1.00      0.92      0.96        50\n",
            "           marge_simpson       0.98      1.00      0.99        50\n",
            "     milhouse_van_houten       0.98      0.96      0.97        49\n",
            "             moe_szyslak       0.96      0.92      0.94        50\n",
            "            ned_flanders       0.92      0.98      0.95        49\n",
            "            nelson_muntz       1.00      0.90      0.95        50\n",
            "       principal_skinner       0.98      1.00      0.99        50\n",
            "            sideshow_bob       1.00      0.98      0.99        47\n",
            "\n",
            "                accuracy                           0.96       890\n",
            "               macro avg       0.96      0.96      0.96       890\n",
            "            weighted avg       0.96      0.96      0.96       890\n",
            "\n"
          ]
        }
      ]
    },
    {
      "cell_type": "markdown",
      "source": [
        "# Análisis de resultados\n",
        "El informe de clasificación muestras las métricas de precisión, recall, F1-score y soporte para cada clase del dataset.\n",
        "\n",
        "Podemos comprobar de forma sencilla que se cumplen sobradamente los requisitos de precisión (accuracy) superiores al 85%, llegando en algunos casos a una precisión del modelo del 100%. De media, nuestro modelo tiene una precisión del 97%.\n",
        "\n",
        "Si analizamos los resultados por clases, podemos observar que los personajes chief_wiggum y marge_simpson (por ejemplo), tienen unas métricas de rendimiento casi perfectas, lo que nos indica que el modelo identifica personajes sin cometer prácticamente errores en la clasificación. Las imágenes que \"peores\" indicadores tienen son homer_simpson y charles_montgomery_burns, con un accuracy de 0.88 y 0.91 respectivamente.\n",
        "\n",
        "Por otro lado, la clase principal_skinner es la que peor ha clasificado nuestro modelo, aunque también tiene un excepcional rendimiento superior al 83% de precisión y con un recall del 100%. La precisión del 83% es un indicador de que el modelo clasifica imagenes del director Skinner incorrectamente (Falsos Positivos) de forma más frecuente que para otras clases.\n",
        "\n",
        "Para mejorar el modelo podríamos aumentar los datos para clases con peores métricas y así mejorar los entrenamientos para una mejora posterior en la clasificación. El ajuste de hiperparámetros se ha realizado previamente y la configuración establecida es la que mejores resultados ha ofrecido."
      ],
      "metadata": {
        "id": "XynaXOqTBUvV"
      }
    },
    {
      "cell_type": "markdown",
      "source": [
        "# CNNs y Fully Connected\n",
        "\n",
        "\n",
        "\n",
        "*   Un entrenamiento con CNNs es más rápido que uno con Fully Connected.\n",
        "*   En un CNNs se necesitan pocas epochs para entrenar un modelo y que proporcione buenos resultados. En cambio, con Fully Connected se necesitas muchos epochs para entrenar y obtener buenos resultados. Además, la precisión de un CNNs es mucho mejor que en un Fully Connected.\n",
        "\n"
      ],
      "metadata": {
        "id": "iNpzNtwVpJ37"
      }
    },
    {
      "cell_type": "markdown",
      "source": [
        "# Utilización de distintas arquitecturas CNNs"
      ],
      "metadata": {
        "id": "X4XNo4JAqkYS"
      }
    },
    {
      "cell_type": "markdown",
      "source": [
        "## CNN con capas convolucionales y pooling estándar"
      ],
      "metadata": {
        "id": "n440DUfLuUrR"
      }
    },
    {
      "cell_type": "code",
      "source": [
        "from tensorflow.keras.models import Sequential\n",
        "from tensorflow.keras.layers import Conv2D, MaxPooling2D, Flatten, Dense, Dropout\n",
        "\n",
        "model1 = Sequential([\n",
        "    Conv2D(32, (3, 3), activation='relu', input_shape=(64, 64, 3)),\n",
        "    MaxPooling2D((2, 2)),\n",
        "    Conv2D(64, (3, 3), activation='relu'),\n",
        "    MaxPooling2D((2, 2)),\n",
        "    Conv2D(128, (3, 3), activation='relu'),\n",
        "    MaxPooling2D((2, 2)),\n",
        "    Conv2D(128, (3, 3), activation='relu'),\n",
        "    MaxPooling2D((2, 2)),\n",
        "    Flatten(),\n",
        "    Dense(512, activation='relu'),\n",
        "    Dropout(0.5),\n",
        "    Dense(256, activation='relu'),\n",
        "    Dropout(0.5),\n",
        "    Dense(18, activation='softmax')\n",
        "])\n",
        "\n",
        "model1.compile(optimizer='adam', loss='sparse_categorical_crossentropy', metrics=['accuracy'])\n"
      ],
      "metadata": {
        "id": "ZXzW5HAvqrCD"
      },
      "execution_count": null,
      "outputs": []
    },
    {
      "cell_type": "markdown",
      "source": [
        "## CNN con Batch Normalization"
      ],
      "metadata": {
        "id": "7o5Y56yjuZs4"
      }
    },
    {
      "cell_type": "code",
      "source": [
        "from tensorflow.keras.layers import BatchNormalization\n",
        "\n",
        "model2 = Sequential([\n",
        "    Conv2D(32, (3, 3), activation='relu', input_shape=(64, 64, 3)),\n",
        "    BatchNormalization(),\n",
        "    MaxPooling2D((2, 2)),\n",
        "    Conv2D(64, (3, 3), activation='relu'),\n",
        "    BatchNormalization(),\n",
        "    MaxPooling2D((2, 2)),\n",
        "    Conv2D(128, (3, 3), activation='relu'),\n",
        "    BatchNormalization(),\n",
        "    MaxPooling2D((2, 2)),\n",
        "    Conv2D(128, (3, 3), activation='relu'),\n",
        "    BatchNormalization(),\n",
        "    MaxPooling2D((2, 2)),\n",
        "    Flatten(),\n",
        "    Dense(512, activation='relu'),\n",
        "    Dropout(0.5),\n",
        "    Dense(256, activation='relu'),\n",
        "    Dropout(0.5),\n",
        "    Dense(18, activation='softmax')\n",
        "])\n",
        "\n",
        "model2.compile(optimizer='adam', loss='sparse_categorical_crossentropy', metrics=['accuracy'])\n"
      ],
      "metadata": {
        "id": "EvRgvyGjuXMi"
      },
      "execution_count": null,
      "outputs": []
    },
    {
      "cell_type": "markdown",
      "source": [
        "## Resultados"
      ],
      "metadata": {
        "id": "zBkzggeRue4X"
      }
    },
    {
      "cell_type": "code",
      "source": [
        "# Entrenamiento de los modelos\n",
        "history1 = model1.fit(X_train, y_train, epochs=10, validation_data=(X_val, y_val))\n",
        "history2 = model2.fit(X_train, y_train, epochs=10, validation_data=(X_val, y_val))\n",
        "\n",
        "# Evaluación de los modelos\n",
        "val_loss1, val_acc1 = model1.evaluate(X_val, y_val)\n",
        "val_loss2, val_acc2 = model2.evaluate(X_val, y_val)\n",
        "\n",
        "print(f'Model 1 - Validation Accuracy: {val_acc1:.4f}')\n",
        "print(f'Model 2 - Validation Accuracy: {val_acc2:.4f}')\n"
      ],
      "metadata": {
        "colab": {
          "base_uri": "https://localhost:8080/"
        },
        "id": "pgCJG7KwuhUd",
        "outputId": "f008d072-3e6e-4186-c35a-db14b97cbd6f"
      },
      "execution_count": null,
      "outputs": [
        {
          "output_type": "stream",
          "name": "stdout",
          "text": [
            "Epoch 1/10\n",
            "475/475 [==============================] - 8s 10ms/step - loss: 2.4640 - accuracy: 0.2241 - val_loss: 1.6803 - val_accuracy: 0.4870\n",
            "Epoch 2/10\n",
            "475/475 [==============================] - 4s 8ms/step - loss: 1.3756 - accuracy: 0.5664 - val_loss: 0.9468 - val_accuracy: 0.7105\n",
            "Epoch 3/10\n",
            "475/475 [==============================] - 4s 9ms/step - loss: 0.8826 - accuracy: 0.7255 - val_loss: 0.7174 - val_accuracy: 0.7889\n",
            "Epoch 4/10\n",
            "475/475 [==============================] - 4s 7ms/step - loss: 0.6497 - accuracy: 0.7996 - val_loss: 0.6260 - val_accuracy: 0.8139\n",
            "Epoch 5/10\n",
            "475/475 [==============================] - 4s 8ms/step - loss: 0.4904 - accuracy: 0.8490 - val_loss: 0.6445 - val_accuracy: 0.8236\n",
            "Epoch 6/10\n",
            "475/475 [==============================] - 4s 9ms/step - loss: 0.4144 - accuracy: 0.8745 - val_loss: 0.5754 - val_accuracy: 0.8381\n",
            "Epoch 7/10\n",
            "475/475 [==============================] - 4s 7ms/step - loss: 0.3312 - accuracy: 0.9003 - val_loss: 0.5441 - val_accuracy: 0.8573\n",
            "Epoch 8/10\n",
            "475/475 [==============================] - 4s 8ms/step - loss: 0.2894 - accuracy: 0.9141 - val_loss: 0.5421 - val_accuracy: 0.8573\n",
            "Epoch 9/10\n",
            "475/475 [==============================] - 4s 9ms/step - loss: 0.2302 - accuracy: 0.9272 - val_loss: 0.5520 - val_accuracy: 0.8626\n",
            "Epoch 10/10\n",
            "475/475 [==============================] - 4s 8ms/step - loss: 0.2090 - accuracy: 0.9391 - val_loss: 0.5592 - val_accuracy: 0.8623\n",
            "Epoch 1/10\n",
            "475/475 [==============================] - 9s 12ms/step - loss: 2.2211 - accuracy: 0.3298 - val_loss: 1.6546 - val_accuracy: 0.5007\n",
            "Epoch 2/10\n",
            "475/475 [==============================] - 4s 9ms/step - loss: 1.3372 - accuracy: 0.5983 - val_loss: 1.0958 - val_accuracy: 0.6620\n",
            "Epoch 3/10\n",
            "475/475 [==============================] - 4s 9ms/step - loss: 0.9514 - accuracy: 0.7129 - val_loss: 0.8386 - val_accuracy: 0.7394\n",
            "Epoch 4/10\n",
            "475/475 [==============================] - 5s 11ms/step - loss: 0.7297 - accuracy: 0.7792 - val_loss: 0.6560 - val_accuracy: 0.8010\n",
            "Epoch 5/10\n",
            "475/475 [==============================] - 5s 9ms/step - loss: 0.6174 - accuracy: 0.8134 - val_loss: 0.7872 - val_accuracy: 0.7655\n",
            "Epoch 6/10\n",
            "475/475 [==============================] - 5s 10ms/step - loss: 0.5044 - accuracy: 0.8529 - val_loss: 0.7770 - val_accuracy: 0.7899\n",
            "Epoch 7/10\n",
            "475/475 [==============================] - 5s 10ms/step - loss: 0.4365 - accuracy: 0.8740 - val_loss: 0.6149 - val_accuracy: 0.8313\n",
            "Epoch 8/10\n",
            "475/475 [==============================] - 5s 10ms/step - loss: 0.3944 - accuracy: 0.8866 - val_loss: 0.6219 - val_accuracy: 0.8250\n",
            "Epoch 9/10\n",
            "475/475 [==============================] - 5s 11ms/step - loss: 0.3342 - accuracy: 0.9036 - val_loss: 0.8161 - val_accuracy: 0.8110\n",
            "Epoch 10/10\n",
            "475/475 [==============================] - 5s 10ms/step - loss: 0.3015 - accuracy: 0.9152 - val_loss: 0.6190 - val_accuracy: 0.8450\n",
            "Epoch 1/10\n",
            "475/475 [==============================] - 15s 22ms/step - loss: 2.8117 - accuracy: 0.1142 - val_loss: 2.7931 - val_accuracy: 0.1192\n",
            "Epoch 2/10\n",
            "475/475 [==============================] - 8s 17ms/step - loss: 2.8028 - accuracy: 0.1180 - val_loss: 2.7905 - val_accuracy: 0.1192\n",
            "Epoch 3/10\n",
            "475/475 [==============================] - 8s 16ms/step - loss: 2.8008 - accuracy: 0.1180 - val_loss: 2.7925 - val_accuracy: 0.1192\n",
            "Epoch 4/10\n",
            "475/475 [==============================] - 8s 17ms/step - loss: 2.8003 - accuracy: 0.1180 - val_loss: 2.7900 - val_accuracy: 0.1192\n",
            "Epoch 5/10\n",
            "475/475 [==============================] - 8s 16ms/step - loss: 2.7996 - accuracy: 0.1180 - val_loss: 2.7905 - val_accuracy: 0.1192\n",
            "Epoch 6/10\n",
            "475/475 [==============================] - 8s 16ms/step - loss: 2.8001 - accuracy: 0.1180 - val_loss: 2.7906 - val_accuracy: 0.1192\n",
            "Epoch 7/10\n",
            "475/475 [==============================] - 8s 17ms/step - loss: 2.7989 - accuracy: 0.1180 - val_loss: 2.7893 - val_accuracy: 0.1192\n",
            "Epoch 8/10\n",
            "475/475 [==============================] - 8s 16ms/step - loss: 2.7987 - accuracy: 0.1180 - val_loss: 2.7898 - val_accuracy: 0.1192\n",
            "Epoch 9/10\n",
            "475/475 [==============================] - 8s 16ms/step - loss: 2.7986 - accuracy: 0.1180 - val_loss: 2.7916 - val_accuracy: 0.1192\n",
            "Epoch 10/10\n",
            "475/475 [==============================] - 7s 16ms/step - loss: 2.7989 - accuracy: 0.1180 - val_loss: 2.7890 - val_accuracy: 0.1192\n",
            "119/119 [==============================] - 1s 5ms/step - loss: 0.5592 - accuracy: 0.8623\n",
            "119/119 [==============================] - 1s 4ms/step - loss: 0.6190 - accuracy: 0.8450\n",
            "119/119 [==============================] - 1s 6ms/step - loss: 2.7890 - accuracy: 0.1192\n",
            "Model 1 - Validation Accuracy: 0.8623\n",
            "Model 2 - Validation Accuracy: 0.8450\n",
            "Model 3 - Validation Accuracy: 0.1192\n"
          ]
        }
      ]
    },
    {
      "cell_type": "code",
      "source": [],
      "metadata": {
        "id": "5nc9JOsbu_i2"
      },
      "execution_count": null,
      "outputs": []
    }
  ]
}